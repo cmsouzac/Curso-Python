{
  "cells": [
    {
      "cell_type": "markdown",
      "metadata": {},
      "source": [
        "idade = 38"
      ]
    },
    {
      "cell_type": "code",
      "execution_count": 1,
      "metadata": {},
      "outputs": [
        {
          "name": "stdout",
          "output_type": "stream",
          "text": [
            "Você é maior de idade\n",
            "Você pode entrar na boate\n",
            "a e b são iguais\n",
            "b não é maior que a\n"
          ]
        }
      ],
      "source": [
        "from Controle.ifelse import verificar_idade, comparar_numeros, verificar_maior\n",
        "\n",
        "print(verificar_idade(38))\n",
        "print(comparar_numeros(10, 10))\n",
        "print(verificar_maior(200, 33))\n",
        "\n",
        "\n"
      ]
    }
  ],
  "metadata": {
    "kernelspec": {
      "display_name": ".venv",
      "language": "python",
      "name": "python3"
    },
    "language_info": {
      "codemirror_mode": {
        "name": "ipython",
        "version": 3
      },
      "file_extension": ".py",
      "mimetype": "text/x-python",
      "name": "python",
      "nbconvert_exporter": "python",
      "pygments_lexer": "ipython3",
      "version": "3.13.5"
    }
  },
  "nbformat": 4,
  "nbformat_minor": 2
}
